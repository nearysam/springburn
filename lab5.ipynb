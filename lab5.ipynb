{
 "cells": [
  {
   "cell_type": "markdown",
   "id": "0",
   "metadata": {},
   "source": [
    "# Lab 5\n",
    "\n",
    "[![image](https://colab.research.google.com/assets/colab-badge.svg)](https://colab.research.google.com/github/giswqs/geohey/blob/main/docs/labs/lab5.ipynb)\n",
    "\n",
    "## Submission instructions\n",
    "\n",
    "1. Download the notebook from https://geohey.gishub.org/labs/lab5\n",
    "2. Complete the lab questions\n",
    "3. Restart Kernel and Run All Cells\n",
    "4. Upload the notebook to your GitHub repository\n",
    "5. Make sure the notebook has an `Open In Colab` badge. Click on the badge to make sure your notebook can be opened in Colab.\n",
    "6. Submit the link to the notebook on your GitHub repository to Canvas"
   ]
  },
  {
   "cell_type": "markdown",
   "id": "1",
   "metadata": {},
   "source": [
    "## Question 1\n",
    "\n",
    "**Person:** Use a dictionary to store information about a person you know. Store their first name, last name, age, and the city in which they live. You should have keys such as first_name, last_name, age, and city. Print each piece of information stored in your dictionary."
   ]
  },
  {
   "cell_type": "code",
   "execution_count": 1,
   "id": "2",
   "metadata": {},
   "outputs": [
    {
     "name": "stdout",
     "output_type": "stream",
     "text": [
      "First Name: Jane\n",
      "Last Name: Doe\n",
      "Age: 24\n",
      "City: Knoxville\n"
     ]
    }
   ],
   "source": [
    "person_1 = {\n",
    "    \"first_name\": \"Jane\",\n",
    "    \"last_name\": \"Doe\",\n",
    "    \"age\": 24,\n",
    "    \"city\": \"Knoxville\",\n",
    "}\n",
    "print(\"First Name:\", person_1[\"first_name\"])\n",
    "print(\"Last Name:\", person_1[\"last_name\"])\n",
    "print(\"Age:\", person_1[\"age\"])\n",
    "print(\"City:\", person_1[\"city\"])"
   ]
  },
  {
   "cell_type": "markdown",
   "id": "3",
   "metadata": {},
   "source": [
    "## Question 2\n",
    "\n",
    "**Favorite Numbers:** Use a dictionary to store people’s favorite numbers. Think of five names, and use them as keys in your dictionary. Think of a favorite number for each person, and store each as a value in your dictionary. Print each person’s name and their favorite number. For even more fun, poll a few friends and get some actual data for your program."
   ]
  },
  {
   "cell_type": "code",
   "execution_count": 2,
   "id": "4",
   "metadata": {},
   "outputs": [
    {
     "name": "stdout",
     "output_type": "stream",
     "text": [
      "James's favorite number is:  8\n",
      "Lena's favorite number is:  1\n",
      "Bill's favorite number is:  43\n",
      "Will's favorite number is:  12\n"
     ]
    }
   ],
   "source": [
    "fav_numbers = {\n",
    "    \"James\": 8,\n",
    "    \"Lena\": 1,\n",
    "    \"Bill\": 43,\n",
    "    \"Will\": 12\n",
    "}\n",
    "print(\"James's favorite number is: \", fav_numbers[\"James\"])\n",
    "print(\"Lena's favorite number is: \", fav_numbers[\"Lena\"])\n",
    "print(\"Bill's favorite number is: \", fav_numbers[\"Bill\"])\n",
    "print(\"Will's favorite number is: \", fav_numbers[\"Will\"])"
   ]
  },
  {
   "cell_type": "markdown",
   "id": "5",
   "metadata": {},
   "source": [
    "## Question 3\n",
    "\n",
    "**Glossary:** A Python dictionary can be used to model an actual dictionary. However, to avoid confusion, let’s call it a glossary.\n",
    "\n",
    "- Think of five programming words you’ve learned about in the previous chapters. Use these words as the keys in your glossary, and store their meanings as values.\n",
    "- Print each word and its meaning as neatly formatted output. You might print the word followed by a colon and then its meaning, or print the word on one line and then print its meaning indented on a second line. Use the newline character (\\n) to insert a blank line between each word-meaning pair in your output."
   ]
  },
  {
   "cell_type": "code",
   "execution_count": 3,
   "id": "6",
   "metadata": {},
   "outputs": [
    {
     "name": "stdout",
     "output_type": "stream",
     "text": [
      "Definition of 'print' command: Prints out variable to output.\n",
      "Definition of 'range' command: Generates sequential numbers within range that is stated.\n",
      "Definition of 'list' command: Creates a list object, or a collection of ordered and changeable items.\n"
     ]
    }
   ],
   "source": [
    "py_commands = {\n",
    "    \"print\": \"Prints out variable to output.\",\n",
    "    \"range\": \"Generates sequential numbers within range that is stated.\",\n",
    "    \"list\": \"Creates a list object, or a collection of ordered and changeable items.\",\n",
    "}\n",
    "print(\"Definition of 'print' command:\", py_commands[\"print\"])\n",
    "print(\"Definition of 'range' command:\", py_commands[\"range\"])\n",
    "print(\"Definition of 'list' command:\", py_commands[\"list\"])"
   ]
  },
  {
   "cell_type": "markdown",
   "id": "7",
   "metadata": {},
   "source": [
    "## Question 4\n",
    "\n",
    "**Glossary 2:** Now that you know how to loop through a dictionary, clean up the code from Question 3 by replacing your series of print() calls with a loop that runs through the dictionary’s keys and values. When you’re sure that your loop works, add five more Python terms to your glossary. When you run your program again, these new words and meanings should automatically be included in the output."
   ]
  },
  {
   "cell_type": "code",
   "execution_count": 4,
   "id": "8",
   "metadata": {},
   "outputs": [
    {
     "name": "stdout",
     "output_type": "stream",
     "text": [
      "Definition of 'print': Prints out variable to output.\n",
      "Definition of 'range': Generates sequential numbers within range that is stated.\n",
      "Definition of 'list': Creates a list object, or a collection of ordered and changeable items.\n",
      "Definition of 'len': Returns length of an object.\n",
      "Definition of 'sort': Sorts a list in ascending order.\n",
      "Definition of 'def': Used to define a function.\n",
      "Definition of 'class': Template for creating objects.\n",
      "Definition of 'elif': Else if statement to check conditions.\n"
     ]
    }
   ],
   "source": [
    "py_commands = {\n",
    "    \"print\": \"Prints out variable to output.\",\n",
    "    \"range\": \"Generates sequential numbers within range that is stated.\",\n",
    "    \"list\": \"Creates a list object, or a collection of ordered and changeable items.\",\n",
    "    \"len\": \"Returns length of an object.\",\n",
    "    \"sort\": \"Sorts a list in ascending order.\",\n",
    "    \"def\": \"Used to define a function.\",\n",
    "    \"class\": \"Template for creating objects.\",\n",
    "    \"elif\": \"Else if statement to check conditions.\"\n",
    "}\n",
    "for command, definition in py_commands.items():\n",
    "    print(f\"Definition of '{command}':\", definition)"
   ]
  },
  {
   "cell_type": "markdown",
   "id": "9",
   "metadata": {},
   "source": [
    "## Question 5\n",
    "\n",
    "**Rivers:** Make a dictionary containing three major rivers and the country each river runs through. One key-value pair might be 'nile': 'egypt'.\n",
    "\n",
    "- Use a loop to print a sentence about each river, such as _The Nile runs through Egypt._\n",
    "- Use a loop to print the name of each river included in the dictionary.\n",
    "- Use a loop to print the name of each country included in the dictionary."
   ]
  },
  {
   "cell_type": "code",
   "execution_count": 5,
   "id": "10",
   "metadata": {},
   "outputs": [
    {
     "name": "stdout",
     "output_type": "stream",
     "text": [
      "The Mississippi runs through USA.\n",
      "The Thames runs through England.\n",
      "The Amazon runs through Brazil.\n",
      "USA\n",
      "England\n",
      "Brazil\n",
      "Mississippi\n",
      "Thames\n",
      "Amazon\n"
     ]
    }
   ],
   "source": [
    "country_rivers = {\n",
    "    \"USA\": \"Mississippi\",\n",
    "    \"England\": \"Thames\",\n",
    "    \"Brazil\": \"Amazon\"\n",
    "}\n",
    "for country, river in country_rivers.items():\n",
    "    print(f\"The {river} runs through {country}.\")\n",
    "for river in country_rivers.keys():\n",
    "    print(river)\n",
    "for country in country_rivers.values():\n",
    "    print(country)"
   ]
  },
  {
   "cell_type": "markdown",
   "id": "11",
   "metadata": {},
   "source": [
    "## Question 6\n",
    "\n",
    "**Cities:** Make a dictionary called `cities`. Use the names of three cities as keys in your dictionary. Create a dictionary of information about each city and include the country that the city is in, its approximate population, and one fact about that city. The keys for each city’s dictionary should be something like `country`, `population`, and `fact`. Print the name of each city and all of the information you have stored about it."
   ]
  },
  {
   "cell_type": "code",
   "execution_count": 6,
   "id": "12",
   "metadata": {},
   "outputs": [
    {
     "name": "stdout",
     "output_type": "stream",
     "text": [
      "City: Lagos\n",
      "Country: Nigeria\n",
      "Population: 15 Million\n",
      "Fun Fact: Lagos means 'lakes' in Portuguese.\n",
      "\n",
      "City: New York\n",
      "Country: USA\n",
      "Population: 8 Million\n",
      "Fun Fact: New York is has more nationalities per block than any other city in the world.\n",
      "\n",
      "City: New Delhi\n",
      "Country: India\n",
      "Population: 33 Million\n",
      "Fun Fact: New Delhi is the capital of India.\n",
      "\n"
     ]
    }
   ],
   "source": [
    "cities = {\n",
    "    \"Lagos\": {\n",
    "        \"Country\": \"Nigeria\",\n",
    "        \"Population\": \"15 Million\",\n",
    "        \"Fun Fact\": \"Lagos means 'lakes' in Portuguese.\"\n",
    "    },\n",
    "    \"New York\": {\n",
    "        \"Country\": \"USA\",\n",
    "        \"Population\": \"8 Million\",\n",
    "        \"Fun Fact\": \"New York is has more nationalities per block than any other city in the world.\"\n",
    "    },\n",
    "    \"New Delhi\": {\n",
    "        \"Country\": \"India\",\n",
    "        \"Population\": \"33 Million\",\n",
    "        \"Fun Fact\": \"New Delhi is the capital of India.\"\n",
    "    }\n",
    "}\n",
    "for city, info in cities.items():\n",
    "    print(f\"City: {city}\")\n",
    "    print(f\"Country: {info['Country']}\")\n",
    "    print(f\"Population: {info['Population']}\")\n",
    "    print(f\"Fun Fact: {info['Fun Fact']}\")\n",
    "    print()"
   ]
  },
  {
   "cell_type": "markdown",
   "id": "13",
   "metadata": {},
   "source": [
    "## Question 7\n",
    "\n",
    "**Rental Car:** Write a program that asks the user what kind of rental car they would like. Print a message about that car, such as “Let me see if I can find you a Subaru.”"
   ]
  },
  {
   "cell_type": "code",
   "execution_count": 7,
   "id": "7cb66cbb",
   "metadata": {},
   "outputs": [
    {
     "name": "stdout",
     "output_type": "stream",
     "text": [
      "Let me look for any Honda's we may have.\n"
     ]
    }
   ],
   "source": [
    "car_pref = input(\"What type of car do you like? \")\n",
    "\n",
    "print(f\"Let me look for any {car_pref}'s we may have.\")"
   ]
  },
  {
   "cell_type": "markdown",
   "id": "15",
   "metadata": {},
   "source": [
    "## Question 8\n",
    "\n",
    "**Restaurant Seating:** Write a program that asks the user how many people are in their dinner group. If the answer is more than eight, print a message saying they’ll have to wait for a table. Otherwise, report that their table is ready."
   ]
  },
  {
   "cell_type": "code",
   "execution_count": 8,
   "id": "16",
   "metadata": {},
   "outputs": [
    {
     "name": "stdout",
     "output_type": "stream",
     "text": [
      "You'll have to wait a sec for a table to be available.\n"
     ]
    }
   ],
   "source": [
    "people = int(input(\"How many in your group?\"))\n",
    "if people > 8:\n",
    "    print(\"You'll have to wait a sec for a table to be available.\")\n",
    "else:\n",
    "    print(\"Your table is ready!\")"
   ]
  },
  {
   "cell_type": "markdown",
   "id": "17",
   "metadata": {},
   "source": [
    "## Question 9\n",
    "\n",
    "**Multiples of Ten:** Ask the user for a number, and then report whether the number is a multiple of 10 or not."
   ]
  },
  {
   "cell_type": "code",
   "execution_count": 9,
   "id": "18",
   "metadata": {},
   "outputs": [
    {
     "name": "stdout",
     "output_type": "stream",
     "text": [
      "4 is not a multiple of 10.\n"
     ]
    }
   ],
   "source": [
    "user_number = int(input(\"Please enter a number:\"))\n",
    "if user_number % 10 == 0:\n",
    "    print(f\"{user_number} is a multiple of 10.\")\n",
    "else:\n",
    "    print(f\"{user_number} is not a multiple of 10.\")"
   ]
  },
  {
   "cell_type": "markdown",
   "id": "19",
   "metadata": {},
   "source": [
    "## Question 10\n",
    "\n",
    "**Pizza Toppings:** Write a loop that prompts the user to enter a series of pizza toppings until they enter a 'quit' value. As they enter each topping, print a message saying you’ll add that topping to their pizza."
   ]
  },
  {
   "cell_type": "code",
   "execution_count": 10,
   "id": "20",
   "metadata": {},
   "outputs": [
    {
     "name": "stdout",
     "output_type": "stream",
     "text": [
      "Adding pepperoni to your pizza!\n",
      "Adding olives to your pizza!\n",
      "Adding anchovies to your pizza!\n",
      "Your pizza with the following toppings is ready:\n",
      "- pepperoni\n",
      "- olives\n",
      "- anchovies\n"
     ]
    }
   ],
   "source": [
    "toppings = []\n",
    "while True:\n",
    "    topping = input(\"Enter a topping (or 'q' to finish order): \")\n",
    "    if topping.lower() == 'q':\n",
    "        break\n",
    "    toppings.append(topping)\n",
    "    print(f\"Adding {topping} to your pizza!\")\n",
    "print(\"Your pizza with the following toppings is ready:\")\n",
    "for topping in toppings:\n",
    "    print(\"-\", topping)"
   ]
  },
  {
   "cell_type": "markdown",
   "id": "21",
   "metadata": {},
   "source": [
    "## Question 11\n",
    "\n",
    "**Message:** Write a function called `display_message()` that prints one sentence telling everyone what you are learning about in this chapter. Call the function, and make sure the message displays correctly."
   ]
  },
  {
   "cell_type": "code",
   "execution_count": 11,
   "id": "22",
   "metadata": {},
   "outputs": [
    {
     "name": "stdout",
     "output_type": "stream",
     "text": [
      "In this chapter we are learning python basics.\n"
     ]
    }
   ],
   "source": [
    "def display_message():\n",
    "    '''Prints sentence telling everyone what I am learning in this chapter'''\n",
    "    print(\"In this chapter we are learning python basics.\")\n",
    "display_message()"
   ]
  },
  {
   "cell_type": "markdown",
   "id": "23",
   "metadata": {},
   "source": [
    "## Question 12\n",
    "\n",
    "**Favorite Book:** Write a function called `favorite_book()` that accepts one parameter, title. The function should print a message, such as `One of my favorite books is Alice in Wonderland`. Call the function, making sure to include a book title as an argument in the function call."
   ]
  },
  {
   "cell_type": "code",
   "execution_count": 12,
   "id": "24",
   "metadata": {},
   "outputs": [
    {
     "name": "stdout",
     "output_type": "stream",
     "text": [
      "One of my favorite books is Blood Meridian.\n"
     ]
    }
   ],
   "source": [
    "def favorite_book(title):\n",
    "    \"\"\"Prints message of favorite book title.\"\"\"\n",
    "    print(f\"One of my favorite books is {title}.\")\n",
    "favorite_book(\"Blood Meridian\")"
   ]
  },
  {
   "cell_type": "markdown",
   "id": "25",
   "metadata": {},
   "source": [
    "## Question 13\n",
    "\n",
    "**T-Shirt:** Write a function called `make_shirt()` that accepts a size and the text of a message that should be printed on the shirt. The function should print a sentence summarizing the size of the shirt and the message printed on it.\n",
    "\n",
    "Call the function once using positional arguments to make a shirt. Call the function a second time using keyword arguments."
   ]
  },
  {
   "cell_type": "code",
   "execution_count": 13,
   "id": "26",
   "metadata": {},
   "outputs": [
    {
     "name": "stdout",
     "output_type": "stream",
     "text": [
      "A medium-sized shirt printed with the message: 'Awesome!'.\n",
      "A small-sized shirt printed with the message: 'Hello World!'.\n"
     ]
    }
   ],
   "source": [
    "def make_shirt(size, message):\n",
    "    \"\"\"Prints a sentence summarizing size of the shirt message printed on it.\"\"\"\n",
    "    print(f\"A {size}-sized shirt printed with the message: '{message}'.\")\n",
    "\n",
    "\n",
    "make_shirt(\"medium\", \"Awesome!\")\n",
    "\n",
    "make_shirt(size=\"small\", message=\"Hello World!\")"
   ]
  },
  {
   "cell_type": "markdown",
   "id": "27",
   "metadata": {},
   "source": [
    "## Question 14\n",
    "\n",
    "**Large Shirts:** Modify the `make_shirt()` function so that shirts are large by default with a message that reads _I love Python_. Make a large shirt and a medium shirt with the default message, and a shirt of any size with a different message."
   ]
  },
  {
   "cell_type": "code",
   "execution_count": 14,
   "id": "28",
   "metadata": {},
   "outputs": [
    {
     "name": "stdout",
     "output_type": "stream",
     "text": [
      "A large-sized shirt printed with the message: 'I love Python'.\n",
      "A medium-sized shirt printed with the message: 'I love Python'.\n",
      "A small-sized shirt printed with the message: 'Seize the Day!'.\n"
     ]
    }
   ],
   "source": [
    "def make_shirt(size=\"large\", message=\"I love Python\"):\n",
    "    \"\"\"Prints a sentence summarizing the size of shirt and message printed on it.\"\"\"\n",
    "    print(f\"A {size}-sized shirt printed with the message: '{message}'.\")\n",
    "\n",
    "make_shirt()\n",
    "\n",
    "make_shirt(size=\"medium\")\n",
    "\n",
    "make_shirt(size=\"small\", message=\"Seize the Day!\")"
   ]
  },
  {
   "cell_type": "markdown",
   "id": "29",
   "metadata": {},
   "source": [
    "## Question 15\n",
    "\n",
    "**Cities:** Write a function called `describe_city()` that accepts the name of a city and its country. The function should print a simple sentence, such as `Reykjavik is in Iceland`. Give the parameter for the country a default value. Call your function for three different cities, at least one of which is not in the default country."
   ]
  },
  {
   "cell_type": "code",
   "execution_count": 15,
   "id": "30",
   "metadata": {},
   "outputs": [
    {
     "name": "stdout",
     "output_type": "stream",
     "text": [
      "London is in England.\n",
      "New York is in USA.\n",
      "Lagos is in Nigeria.\n"
     ]
    }
   ],
   "source": [
    "def describe_city(city, country=\"Unstated\"):\n",
    "    \"\"\"Prints sentence describing the city and its country.\"\"\"\n",
    "    print(f\"{city} is in {country}.\")\n",
    "\n",
    "describe_city(\"London\", \"England\")\n",
    "describe_city(\"New York\", \"USA\")\n",
    "describe_city(\"Lagos\", \"Nigeria\")"
   ]
  },
  {
   "cell_type": "markdown",
   "id": "31",
   "metadata": {},
   "source": [
    "## Question 16\n",
    "\n",
    "**City Names:** Write a function called `city_country()` that takes in the name of a city and its country. The function should return a string formatted like this:\n",
    "\n",
    "```text\n",
    "Santiago, Chile\n",
    "```\n",
    "\n",
    "Call your function with at least three city-country pairs, and print the values that are returned."
   ]
  },
  {
   "cell_type": "code",
   "execution_count": 16,
   "id": "32",
   "metadata": {},
   "outputs": [
    {
     "name": "stdout",
     "output_type": "stream",
     "text": [
      "Santiago, Chile\n",
      "New York, USA\n",
      "Lagos, Nigeria\n"
     ]
    }
   ],
   "source": [
    "def city_country(city, country):\n",
    "    \"\"\"Returns string formatted 'city, country'.\"\"\"\n",
    "    return f\"{city}, {country}\"\n",
    "\n",
    "print(city_country(\"Santiago\", \"Chile\"))\n",
    "print(city_country(\"New York\", \"USA\"))\n",
    "print(city_country(\"Lagos\", \"Nigeria\"))"
   ]
  },
  {
   "cell_type": "markdown",
   "id": "33",
   "metadata": {},
   "source": [
    "## Question 17\n",
    "\n",
    "**Album:** Write a function called `make_album()` that builds a dictionary describing a music album. The function should take in an artist name and an album title, and it should return a dictionary containing these two pieces of information. Use the function to make three dictionaries representing different albums. Print each return value to show that the dictionaries are storing the album information correctly.\n",
    "\n",
    "Use None to add an optional parameter to make_album() that allows you to store the number of songs on an album. If the calling line includes a value for the number of songs, add that value to the album’s dictionary. Make at least one new function call that includes the number of songs on an album."
   ]
  },
  {
   "cell_type": "code",
   "execution_count": 17,
   "id": "34",
   "metadata": {},
   "outputs": [
    {
     "name": "stdout",
     "output_type": "stream",
     "text": [
      "{'artist': 'Nirvana', 'title': 'Never mind'}\n",
      "{'artist': 'Beatles', 'title': 'Abbey Road', 'songs': 10}\n",
      "{'artist': 'Miles Davis', 'title': 'Bitches Brew', 'songs': 6}\n"
     ]
    }
   ],
   "source": [
    "def make_album(artist, title, songs=None):\n",
    "    \"\"\"Creates dictionary describing a music album.\"\"\"\n",
    "    album = {\"artist\": artist, \"title\": title}\n",
    "    if songs:\n",
    "        album[\"songs\"] = songs\n",
    "    return album\n",
    "\n",
    "album1 = make_album(\"Nirvana\", \"Never mind\")\n",
    "print(album1)\n",
    "\n",
    "album2 = make_album(\"Beatles\", \"Abbey Road\", 10)\n",
    "print(album2)\n",
    "\n",
    "album3 = make_album(\"Miles Davis\", \"Bitches Brew\", 6)\n",
    "print(album3)"
   ]
  },
  {
   "cell_type": "markdown",
   "id": "35",
   "metadata": {},
   "source": [
    "## Question 18\n",
    "\n",
    "**User Albums:** Start with your program from Question 17. Write a `while` loop that allows users to enter an album’s artist and title. Once you have that information, call `make_album()` with the user’s input and print the dictionary that’s created. Be sure to include a quit value in the `while` loop."
   ]
  },
  {
   "cell_type": "code",
   "execution_count": 18,
   "id": "36",
   "metadata": {},
   "outputs": [
    {
     "name": "stdout",
     "output_type": "stream",
     "text": [
      "{'artist': 'nirvana', 'title': 'never mind'}\n",
      "{'artist': 'beatles', 'title': 'abbey road'}\n",
      "{'artist': 'miles davis', 'title': 'bitches brew'}\n"
     ]
    }
   ],
   "source": [
    "def make_album(artist, title, songs=None):\n",
    "    \"\"\"Builds a dictionary describing a music album.\"\"\"\n",
    "    album = {\"artist\": artist, \"title\": title}\n",
    "    if songs:\n",
    "        album[\"songs\"] = songs\n",
    "    return album\n",
    "\n",
    "while True:\n",
    "    artist = input(\"Enter the artist's name (or 'q' to exit): \")\n",
    "    if artist.lower() == 'q':\n",
    "        break\n",
    "\n",
    "    title = input(\"Enter the album title: \")\n",
    "    if title.lower() == 'q':\n",
    "        break\n",
    "\n",
    "    album_info = make_album(artist, title)\n",
    "    print(album_info)"
   ]
  },
  {
   "cell_type": "markdown",
   "id": "37",
   "metadata": {},
   "source": [
    "## Question 19\n",
    "\n",
    "**Messages:** Make a list containing a series of short text messages. Pass the list to a function called `show_messages()`, which prints each text message."
   ]
  },
  {
   "cell_type": "code",
   "execution_count": 19,
   "id": "38",
   "metadata": {},
   "outputs": [
    {
     "name": "stdout",
     "output_type": "stream",
     "text": [
      "Hello, what's up?\n",
      "Hope you are doing well.\n",
      "How is the weather today?\n"
     ]
    }
   ],
   "source": [
    "def show_messages(messages):\n",
    "    \"\"\"Prints each text message from the list.\"\"\"\n",
    "    for message in messages:\n",
    "        print(message)\n",
    "\n",
    "messages = [\n",
    "    \"Hello, what's up?\",\n",
    "    \"Hope you are doing well.\",\n",
    "    \"How is the weather today?\",\n",
    "]\n",
    "\n",
    "show_messages(messages)"
   ]
  },
  {
   "cell_type": "markdown",
   "id": "39",
   "metadata": {},
   "source": [
    "## Question 20\n",
    "\n",
    "**Sending Messages:** Start with a copy of your program from Question 19. Write a function called `send_messages()` that prints each text message and moves each message to a new list called `sent_messages` as it’s printed. After calling the function, print both of your lists to make sure the messages were moved correctly."
   ]
  },
  {
   "cell_type": "code",
   "execution_count": 20,
   "id": "40",
   "metadata": {},
   "outputs": [
    {
     "name": "stdout",
     "output_type": "stream",
     "text": [
      "Hello, what's up?\n",
      "Remember the test.\n",
      "Don't forget about tomorrow.\n",
      "Have a great day!\n",
      "\n",
      "Original Messages:\n",
      "\n",
      "Sent Messages:\n",
      "Hello, what's up?\n",
      "Remember the test.\n",
      "Don't forget about tomorrow.\n",
      "Have a great day!\n"
     ]
    }
   ],
   "source": [
    "def send_messages(messages, sent_messages):\n",
    "    \"\"\"Prints each text message and moves it to a new list.\"\"\"\n",
    "    while messages:\n",
    "        message = messages.pop(0)\n",
    "        print(message)\n",
    "        sent_messages.append(message)\n",
    "\n",
    "messages = [\n",
    "    \"Hello, what's up?\",\n",
    "    \"Remember the test.\",\n",
    "    \"Don't forget about tomorrow.\",\n",
    "    \"Have a great day!\"\n",
    "]\n",
    "\n",
    "sent_messages = []\n",
    "\n",
    "send_messages(messages, sent_messages)\n",
    "\n",
    "print(\"\\nOriginal Messages:\")\n",
    "for message in messages:\n",
    "    print(message)\n",
    "\n",
    "print(\"\\nSent Messages:\")\n",
    "for message in sent_messages:\n",
    "    print(message)"
   ]
  },
  {
   "cell_type": "markdown",
   "id": "41",
   "metadata": {},
   "source": [
    "## Question 21\n",
    "\n",
    "**Learning Python:** Open a blank file in your text editor and write a few lines summarizing what you’ve learned about Python so far. Start each line with the phrase _In Python you can. . .._ Save the file as _learning_python.txt_ in the same directory as your exercises from this chapter. Write a program that reads the file and prints what you wrote three times. Print the contents once by reading in the entire file, once by looping over the file object, and once by storing the lines in a list and then working with them outside the _with_ block."
   ]
  },
  {
   "cell_type": "code",
   "execution_count": 21,
   "id": "42",
   "metadata": {},
   "outputs": [
    {
     "name": "stdout",
     "output_type": "stream",
     "text": [
      "Reading the entire file:\n",
      "In Python you can:\n",
      "- Define functions and run tasks.\n",
      "- Use commands.\n",
      "- Work editing websites and applications.\n",
      "\n",
      "\n",
      "Looping over the file object:\n",
      "In Python you can:\n",
      "- Define functions and run tasks.\n",
      "- Use commands.\n",
      "- Work editing websites and applications.\n",
      "\n",
      "Storing lines in a list then working with them:\n",
      "In Python you can:\n",
      "- Define functions and run tasks.\n",
      "- Use commands.\n",
      "- Work editing websites and applications.\n"
     ]
    }
   ],
   "source": [
    "print(\"Reading the entire file:\")\n",
    "with open(\"learning_python.txt\", \"r\") as file:\n",
    "    contents = file.read()\n",
    "    print(contents)\n",
    "\n",
    "print(\"\\nLooping over the file object:\")\n",
    "with open(\"learning_python.txt\", \"r\") as file:\n",
    "    for line in file:\n",
    "        print(line.rstrip())\n",
    "\n",
    "print(\"\\nStoring lines in a list then working with them:\")\n",
    "with open(\"learning_python.txt\", \"r\") as file:\n",
    "    lines = file.readlines()\n",
    "    for line in lines:\n",
    "        print(line.rstrip())\n"
   ]
  },
  {
   "cell_type": "markdown",
   "id": "43",
   "metadata": {},
   "source": [
    "## Question 22\n",
    "\n",
    "**Learning C:** You can use the replace() method to replace any word in a string with a different word. Here’s a quick example showing how to replace 'dog' with 'cat' in a sentence:\n",
    "\n",
    "```text\n",
    "message = \"I really like dogs.\"\n",
    "message.replace('dog', 'cat')\n",
    "'I really like cats.'\n",
    "```\n",
    "\n",
    "Read in each line from the file you just created, _learning_python.txt_, and replace the word _Python_ with the name of another language, such as _C_. Print each modified line to the screen."
   ]
  },
  {
   "cell_type": "code",
   "execution_count": 22,
   "id": "44",
   "metadata": {},
   "outputs": [
    {
     "name": "stdout",
     "output_type": "stream",
     "text": [
      "In C you can:\n",
      "- Define functions and run tasks.\n",
      "- Use commands.\n",
      "- Work editing websites and applications.\n"
     ]
    }
   ],
   "source": [
    "with open(\"learning_python.txt\", \"r\") as file:\n",
    "    for line in file:\n",
    "        modified_line = line.replace('Python', 'C')\n",
    "        print(modified_line.rstrip())\n"
   ]
  },
  {
   "cell_type": "markdown",
   "id": "45",
   "metadata": {},
   "source": [
    "## Question 23\n",
    "\n",
    "**Guest:** Write a program that prompts the user for their name. When they respond, write their name to a file called guest.txt."
   ]
  },
  {
   "cell_type": "code",
   "execution_count": 23,
   "id": "46",
   "metadata": {},
   "outputs": [
    {
     "name": "stdout",
     "output_type": "stream",
     "text": [
      "Your name has been written to guest.txt.\n"
     ]
    }
   ],
   "source": [
    "name_prompt = input(\"Please enter your name: \")\n",
    "with open(\"guest.txt\", \"w\") as file:\n",
    "    file.write(name_prompt)\n",
    "    print(\"Your name has been written to guest.txt.\")\n"
   ]
  },
  {
   "cell_type": "markdown",
   "id": "47",
   "metadata": {},
   "source": [
    "## Question 24\n",
    "\n",
    "**Guest Book:** Write a while loop that prompts users for their name. When they enter their name, print a greeting to the screen and add a line recording their visit in a file called guest_book.txt. Make sure each entry appears on a new line in the file."
   ]
  },
  {
   "cell_type": "code",
   "execution_count": 24,
   "id": "48",
   "metadata": {},
   "outputs": [
    {
     "name": "stdout",
     "output_type": "stream",
     "text": [
      "Welcome! Your name has been recorded in guest_book.txt.\n"
     ]
    }
   ],
   "source": [
    "guests = []\n",
    "with open(\"guest_book.txt\", \"a\") as file:\n",
    "    while True:\n",
    "        name = input(\"Please enter your name (enter 'q' to quit): \")\n",
    "        \n",
    "        if name.lower() == 'q':\n",
    "            break\n",
    "        \n",
    "        print(f\"Welcome, {name}!\")\n",
    "        guests.append(name)\n",
    "        \n",
    "        file.write(name + '\\n')\n",
    "\n",
    "print(\"Welcome! Your name has been recorded in guest_book.txt.\")\n"
   ]
  },
  {
   "cell_type": "markdown",
   "id": "49",
   "metadata": {},
   "source": [
    "## Question 25\n",
    "\n",
    "**Programming Poll:** Write a while loop that asks people why they like programming. Each time someone enters a reason, add their reason to a file that stores all the responses."
   ]
  },
  {
   "cell_type": "code",
   "execution_count": 25,
   "id": "50",
   "metadata": {},
   "outputs": [
    {
     "name": "stdout",
     "output_type": "stream",
     "text": [
      "Thank you for sharing your reasons! Your responses have been recorded in programming_likes.txt.\n"
     ]
    }
   ],
   "source": [
    "with open(\"programming_reasons.txt\", \"a\") as file:\n",
    "    while True:\n",
    "        reason = input(\"Why do you like programming? (Enter 'q' to quit): \")\n",
    "        if reason.lower() == 'q':\n",
    "            break\n",
    "        file.write(reason + '\\n')\n",
    "\n",
    "print(\"Thank you for sharing your reasons! Your responses have been recorded in programming_likes.txt.\")\n"
   ]
  },
  {
   "cell_type": "markdown",
   "id": "51",
   "metadata": {},
   "source": [
    "## Question 26\n",
    "\n",
    "**Addition:** One common problem when prompting for numerical input occurs when people provide text instead of numbers. When you try to convert the input to an int, you’ll get a ValueError. Write a program that prompts for two numbers. Add them together and print the result. Catch the ValueError if either input value is not a number, and print a friendly error message. Test your program by entering two numbers and then by entering some text instead of a number."
   ]
  },
  {
   "cell_type": "code",
   "execution_count": 26,
   "id": "52",
   "metadata": {},
   "outputs": [
    {
     "name": "stdout",
     "output_type": "stream",
     "text": [
      "The sum of 5.0 and 6.0 is 11.0.\n"
     ]
    }
   ],
   "source": [
    "try:\n",
    "    num1 = float(input(\"Enter the first number: \"))\n",
    "    num2 = float(input(\"Enter the second number: \"))\n",
    "    result = num1 + num2\n",
    "    print(f\"The sum of {num1} and {num2} is {result}.\")\n",
    "    \n",
    "except ValueError:\n",
    "    print(\"Error: Please enter valid numerical inputs.\")"
   ]
  },
  {
   "cell_type": "markdown",
   "id": "53",
   "metadata": {},
   "source": [
    "## Question 27\n",
    "\n",
    "**Addition Calculator:** Wrap your code from Question 26 in a while loop so the user can continue entering numbers even if they make a mistake and enter text instead of a number."
   ]
  },
  {
   "cell_type": "code",
   "execution_count": 33,
   "id": "54",
   "metadata": {},
   "outputs": [
    {
     "name": "stdout",
     "output_type": "stream",
     "text": [
      "Error: Please enter valid number.\n"
     ]
    }
   ],
   "source": [
    "while True:\n",
    "    try:\n",
    "        num1 = float(input(\"Enter first number: \"))\n",
    "        \n",
    "        num2 = float(input(\"Enter second number: \"))\n",
    "        \n",
    "        result = num1 + num2\n",
    "        \n",
    "        print(f\"The sum of {num1} and {num2} is {result}.\")\n",
    "        \n",
    "    except ValueError:\n",
    "        print(\"Error: Please enter valid number.\")\n",
    "        \n",
    "    response = input(\"Do you want to continue? (y/n): \")\n",
    "    \n",
    "    if response.lower() != 'y':\n",
    "        break"
   ]
  },
  {
   "cell_type": "markdown",
   "id": "55",
   "metadata": {},
   "source": [
    "## Question 28\n",
    "\n",
    "**Cats and Dogs:** Make two files, _cats.txt_ and _dogs.txt_. Store at least three names of cats in the first file and three names of dogs in the second file. Write a program that tries to read these files and print the contents of the file to the screen. Wrap your code in a `try-except` block to catch the `FileNotFound` error, and print a friendly message if a file is missing. Move one of the files to a different location on your system, and make sure the code in the `except` block executes properly."
   ]
  },
  {
   "cell_type": "code",
   "execution_count": 28,
   "id": "56",
   "metadata": {},
   "outputs": [
    {
     "name": "stdout",
     "output_type": "stream",
     "text": [
      "Contents of Cats.txt:\n",
      "Scooter\n",
      "Pepper\n",
      "Bee\n",
      "\n",
      "Contents of Dogs.txt:\n",
      "Pip\n",
      "Spot\n",
      "Buddy\n"
     ]
    }
   ],
   "source": [
    "try:\n",
    "    with open('cats.txt', 'r') as cats_file:\n",
    "        print(\"Contents of Cats.txt:\")\n",
    "        print(cats_file.read())\n",
    "        \n",
    "    with open('dogs.txt', 'r') as dogs_file:\n",
    "        print(\"\\nContents of Dogs.txt:\")\n",
    "        print(dogs_file.read())\n",
    "\n",
    "except FileNotFoundError:\n",
    "    print(\"File or files is missing.\")\n"
   ]
  },
  {
   "cell_type": "markdown",
   "id": "57",
   "metadata": {},
   "source": [
    "## Question 29\n",
    "\n",
    "**Silent Cats and Dogs:** Modify your except block in Question 28 to fail silently if either file is missing."
   ]
  },
  {
   "cell_type": "code",
   "execution_count": 29,
   "id": "58",
   "metadata": {},
   "outputs": [
    {
     "name": "stdout",
     "output_type": "stream",
     "text": [
      "Contents of cats.txt:\n",
      "Scooter\n",
      "Pepper\n",
      "Bee\n",
      "\n",
      "Contents of dogs.txt:\n",
      "Pip\n",
      "Spot\n",
      "Buddy\n"
     ]
    }
   ],
   "source": [
    "try:\n",
    "    with open('Cats.txt', 'r') as cats_file:\n",
    "        print(\"Contents of cats.txt:\")\n",
    "        print(cats_file.read())\n",
    "        \n",
    "    with open('Dogs.txt', 'r') as dogs_file:\n",
    "        print(\"\\nContents of dogs.txt:\")\n",
    "        print(dogs_file.read())\n",
    "except FileNotFoundError:\n",
    "    pass"
   ]
  },
  {
   "cell_type": "markdown",
   "id": "59",
   "metadata": {},
   "source": [
    "## Question 30\n",
    "\n",
    "**Common Words:** Visit Project Gutenberg (<https://gutenberg.org/>) and find a few texts you’d like to analyze. Download the text files for these works, or copy the raw text from your browser into a text file on your computer. You can use the `count()` method to find out how many times a word or phrase appears in a string. For example, the following code counts the number of times 'row' appears in a string:"
   ]
  },
  {
   "cell_type": "code",
   "execution_count": 30,
   "id": "60",
   "metadata": {},
   "outputs": [
    {
     "data": {
      "text/plain": [
       "2"
      ]
     },
     "execution_count": 30,
     "metadata": {},
     "output_type": "execute_result"
    }
   ],
   "source": [
    "line = \"Row, row, row your boat\"\n",
    "line.count(\"row\")"
   ]
  },
  {
   "cell_type": "code",
   "execution_count": 31,
   "id": "61",
   "metadata": {},
   "outputs": [
    {
     "data": {
      "text/plain": [
       "3"
      ]
     },
     "execution_count": 31,
     "metadata": {},
     "output_type": "execute_result"
    }
   ],
   "source": [
    "line.lower().count(\"row\")"
   ]
  },
  {
   "cell_type": "markdown",
   "id": "62",
   "metadata": {},
   "source": [
    "Notice that converting the string to lowercase using lower() catches all appearances of the word you’re looking for, regardless of how it’s formatted.\n",
    "\n",
    "Write a program that reads the files you found at Project Gutenberg and determines how many times the word `the` appears in each text. This will be an approximation because it will also count words such as `then` and `there`. Try counting `the`, with a space in the string, and see how much lower your count is."
   ]
  },
  {
   "cell_type": "code",
   "execution_count": 32,
   "id": "63",
   "metadata": {},
   "outputs": [
    {
     "name": "stdout",
     "output_type": "stream",
     "text": [
      "'the ' appears 7372 times in the file.\n",
      "'the' appears 11484 times in the file.\n",
      "'then' appears 268 times in the file.\n",
      "'there' appears 627 times in the file.\n"
     ]
    }
   ],
   "source": [
    "def count_word(word, file_path):\n",
    "    count = 0\n",
    "    with open(file_path, 'r') as file:\n",
    "        for line in file:\n",
    "            count += line.lower().count(word.lower())\n",
    "    return count\n",
    "\n",
    "file_path = \"A Tale Of Two Cities.txt\"\n",
    "\n",
    "while True:\n",
    "    search_term = input(\"Enter a word or phrase to search for (enter 'q' to exit): \")\n",
    "    if search_term.lower() == 'q':\n",
    "        break\n",
    "    else:\n",
    "        occurrences = count_word(search_term, file_path)\n",
    "        print(\"'{}' appears {} times in the file.\".format(search_term, occurrences))\n"
   ]
  }
 ],
 "metadata": {
  "kernelspec": {
   "display_name": "Python 3",
   "language": "python",
   "name": "python3"
  },
  "language_info": {
   "codemirror_mode": {
    "name": "ipython",
    "version": 3
   },
   "file_extension": ".py",
   "mimetype": "text/x-python",
   "name": "python",
   "nbconvert_exporter": "python",
   "pygments_lexer": "ipython3",
   "version": "3.11.7"
  }
 },
 "nbformat": 4,
 "nbformat_minor": 5
}
