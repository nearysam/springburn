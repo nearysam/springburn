{
 "cells": [
  {
   "attachments": {},
   "cell_type": "markdown",
   "id": "0",
   "metadata": {},
   "source": [
    "# Lab 4\n",
    "\n",
    "[![image](https://colab.research.google.com/assets/colab-badge.svg)](https://colab.research.google.com/github/giswqs/geohey/blob/main/docs/labs/lab4.ipynb)\n",
    "\n",
    "## Submission instructions\n",
    "\n",
    "1. Download the notebook from https://geohey.gishub.org/labs/lab4\n",
    "2. Complete the lab questions\n",
    "3. Restart Kernel and Run All Cells\n",
    "4. Upload the notebook to your GitHub repository\n",
    "5. Make sure the notebook has an `Open In Colab` badge. Click on the badge to make sure your notebook can be opened in Colab.\n",
    "6. Submit the link to the notebook on your GitHub repository to Canvas"
   ]
  },
  {
   "cell_type": "code",
   "execution_count": null,
   "id": "1",
   "metadata": {},
   "outputs": [],
   "source": [
    "from datetime import datetime\n",
    "\n",
    "now = datetime.now()\n",
    "print(f\"Submitted time: {now}\")"
   ]
  },
  {
   "cell_type": "markdown",
   "id": "2",
   "metadata": {},
   "source": [
    "## Question 1\n",
    "\n",
    "**Personal Message:** Use a variable to represent a person’s name, and print a message to that person. Your message should be simple, such as, “Hello Eric, would you like to learn some Python today?”"
   ]
  },
  {
   "cell_type": "code",
   "execution_count": 5,
   "id": "3",
   "metadata": {},
   "outputs": [
    {
     "name": "stdout",
     "output_type": "stream",
     "text": [
      "Hello John, would you like to learn Python today?\n"
     ]
    }
   ],
   "source": [
    "name_john = \"John\"\n",
    "message_john = \"Hello\" + \" \" + (name_john) + \",\" +\" would you like to learn Python today?\"\n",
    "print(message_john)"
   ]
  },
  {
   "cell_type": "markdown",
   "id": "4",
   "metadata": {},
   "source": [
    "## Question 2\n",
    "\n",
    "**Name Cases:** Use a variable to represent a person’s name, and then print that person’s name in lowercase, uppercase, and title case."
   ]
  },
  {
   "cell_type": "code",
   "execution_count": 6,
   "id": "5",
   "metadata": {},
   "outputs": [
    {
     "name": "stdout",
     "output_type": "stream",
     "text": [
      "sam\n",
      "SAM\n",
      "Sam\n"
     ]
    }
   ],
   "source": [
    "name_sam = \"Sam\"\n",
    "print(name_sam.lower())\n",
    "print(name_sam.upper())\n",
    "print(name_sam.title())"
   ]
  },
  {
   "cell_type": "markdown",
   "id": "6",
   "metadata": {},
   "source": [
    "## Question 3\n",
    "\n",
    "**Famous Quote:** Find a quote from a famous person you admire. Print the quote and the name of its author. Your output should look something like the following, including the quotation marks:\n",
    "\n",
    "```\n",
    "Albert Einstein once said, “A person who never made a mistake never tried anything new.”\n",
    "```"
   ]
  },
  {
   "cell_type": "code",
   "execution_count": 8,
   "id": "7",
   "metadata": {},
   "outputs": [
    {
     "name": "stdout",
     "output_type": "stream",
     "text": [
      "Karl Marx once said, 'We have a world to win!'\n"
     ]
    }
   ],
   "source": [
    "quote_marx = \"Karl Marx once said, 'We have a world to win!'\"\n",
    "print(quote_marx)"
   ]
  },
  {
   "cell_type": "markdown",
   "id": "8",
   "metadata": {},
   "source": [
    "## Question 4\n",
    "\n",
    "**Stripping Names:** Use a variable to represent a person’s name, and include some whitespace characters at the beginning and end of the name. Make sure you use each character combination, \"\\t\" and \"\\n\", at least once.\n",
    "Print the name once, so the whitespace around the name is displayed. Then print the name using each of the three stripping functions, lstrip(), rstrip(), and strip()."
   ]
  },
  {
   "cell_type": "code",
   "execution_count": 32,
   "id": "9",
   "metadata": {},
   "outputs": [
    {
     "name": "stdout",
     "output_type": "stream",
     "text": [
      "\t    alden    \n",
      "\n",
      "alden    alden    alden\n"
     ]
    }
   ],
   "source": [
    "name_alden = \"    alden    \"\n",
    "print(\"\\t\" + name_alden + \"\\n\")\n",
    "print(name_alden.lstrip() + name_alden.strip() + name_alden.rstrip())"
   ]
  },
  {
   "cell_type": "markdown",
   "id": "10",
   "metadata": {},
   "source": [
    "## Question 5\n",
    "\n",
    "**Names:** Store the names of a few of your friends in a list called names. Print\n",
    "each person’s name by accessing each element in the list, one at a time."
   ]
  },
  {
   "cell_type": "code",
   "execution_count": 35,
   "id": "11",
   "metadata": {},
   "outputs": [
    {
     "name": "stdout",
     "output_type": "stream",
     "text": [
      "John\n",
      "Bill\n",
      "Mark\n",
      "Jess\n"
     ]
    }
   ],
   "source": [
    "names_friends = [\"John\" , \"Bill\" , \"Mark\" , \"Jess\"]\n",
    "print(names_friends[0])\n",
    "print(names_friends[1])\n",
    "print(names_friends[2])\n",
    "print(names_friends[3])"
   ]
  },
  {
   "cell_type": "markdown",
   "id": "12",
   "metadata": {},
   "source": [
    "## Question 6\n",
    "\n",
    "**Your Own List:** Think of your favorite mode of transportation, such as a motorcycle or a car, and make a list that stores several examples. Use your list to print a series of statements about these items, such as “I would like to own a Honda motorcycle.”"
   ]
  },
  {
   "cell_type": "code",
   "execution_count": 47,
   "id": "13",
   "metadata": {},
   "outputs": [
    {
     "name": "stdout",
     "output_type": "stream",
     "text": [
      "I would like to buy a Toyotatruck.\n",
      "The bullet train is really fast.\n",
      "The jet plane is really cool!\n"
     ]
    }
   ],
   "source": [
    "fav_transit = [\"truck\" , \"train\" , \"plane\"]\n",
    "fav_type = [\"Toyota\", \"bullet\", \"jet\"]\n",
    "print(f\"I would like to buy a \"  + fav_type[0] + fav_transit[0] + \".\")\n",
    "print(f\"The \" + fav_type[1]+ \" \" + fav_transit[1] + \" is really fast.\")\n",
    "print(f\"The \" + fav_type[2] + \" \" + fav_transit[2] + \" is really cool!\")"
   ]
  },
  {
   "cell_type": "markdown",
   "id": "14",
   "metadata": {},
   "source": [
    "## Question 7\n",
    "\n",
    "**Pizzas:** Think of at least three kinds of your favorite pizza. Store these pizza names in a list, and then use a for loop to print the name of each pizza.\n",
    "\n",
    "Modify your for loop to print a sentence using the name of the pizza instead of printing just the name of the pizza. For each pizza you should have one line of output containing a simple statement like _I like pepperoni pizza._"
   ]
  },
  {
   "cell_type": "code",
   "execution_count": 50,
   "id": "15",
   "metadata": {},
   "outputs": [
    {
     "name": "stdout",
     "output_type": "stream",
     "text": [
      "I like pepperoni pizza.\n",
      "I like cheese pizza.\n",
      "I like olive pizza.\n"
     ]
    }
   ],
   "source": [
    "fav_pizza = [\"pepperoni\", \"cheese\", \"olive\"]\n",
    "for fav_pizza in fav_pizza:\n",
    "    print(\"I like \" + fav_pizza + \" pizza.\")"
   ]
  },
  {
   "cell_type": "markdown",
   "id": "16",
   "metadata": {},
   "source": [
    "Add a line at the end of your program, outside the for loop, that states how much you like pizza. The output should consist of three or more lines about the kinds of pizza you like and then an additional sentence, such as _I really love pizza!_"
   ]
  },
  {
   "cell_type": "code",
   "execution_count": 51,
   "id": "17",
   "metadata": {},
   "outputs": [
    {
     "name": "stdout",
     "output_type": "stream",
     "text": [
      "I like pepperoni pizza.\n",
      "I like cheese pizza.\n",
      "I like olive pizza.\n",
      "I really love pizza!\n"
     ]
    }
   ],
   "source": [
    "fav_pizza = [\"pepperoni\", \"cheese\", \"olive\"]\n",
    "for fav_pizza in fav_pizza:\n",
    "    print(\"I like \" + fav_pizza + \" pizza.\")\n",
    "pizz_message = \"I really love pizza!\"\n",
    "print(pizz_message)"
   ]
  },
  {
   "cell_type": "markdown",
   "id": "18",
   "metadata": {},
   "source": [
    "## Question 8\n",
    "\n",
    "**Animals:** Think of at least three different animals that have a common characteristic. Store the names of these animals in a list, and then use a for loop to print out the name of each animal.\n",
    "\n",
    "Modify your program to print a statement about each animal, such as _A dog would make a great pet._"
   ]
  },
  {
   "cell_type": "code",
   "execution_count": 60,
   "id": "19",
   "metadata": {},
   "outputs": [
    {
     "name": "stdout",
     "output_type": "stream",
     "text": [
      "A dog would make a great pet.\n",
      "A cat would make a great pet.\n",
      "A ferret would make a great pet.\n"
     ]
    }
   ],
   "source": [
    "pet_animals = [\"dog\", \"cat\", \"ferret\"]\n",
    "for pet_animals in pet_animals:\n",
    "    print(f\"A {pet_animals} would make a great pet.\")"
   ]
  },
  {
   "cell_type": "markdown",
   "id": "20",
   "metadata": {},
   "source": [
    "Add a line at the end of your program stating what these animals have in common. You could print a sentence such as _Any of these animals would make a great pet!_"
   ]
  },
  {
   "cell_type": "code",
   "execution_count": 61,
   "id": "21",
   "metadata": {},
   "outputs": [
    {
     "name": "stdout",
     "output_type": "stream",
     "text": [
      "A dog would make a great pet.\n",
      "A cat would make a great pet.\n",
      "A ferret would make a great pet.\n",
      "All of these pets have fur!\n"
     ]
    }
   ],
   "source": [
    "pet_animals = [\"dog\", \"cat\", \"ferret\"]\n",
    "for pet_animals in pet_animals:\n",
    "    print(f\"A {pet_animals} would make a great pet.\")\n",
    "message_pets = \"All of these pets have fur!\"\n",
    "print(message_pets)"
   ]
  },
  {
   "cell_type": "markdown",
   "id": "22",
   "metadata": {},
   "source": [
    "## Question 9\n",
    "\n",
    "**Summing a Hundred:** Make a list of the numbers from one to one hundred, and then use `min()` and `max()` to make sure your list actually starts at one and ends at one hundred. Also, use the sum() function to see how quickly Python can add a hundred numbers."
   ]
  },
  {
   "cell_type": "code",
   "execution_count": 62,
   "id": "23",
   "metadata": {},
   "outputs": [
    {
     "name": "stdout",
     "output_type": "stream",
     "text": [
      "[1, 2, 3, 4, 5, 6, 7, 8, 9, 10, 11, 12, 13, 14, 15, 16, 17, 18, 19, 20, 21, 22, 23, 24, 25, 26, 27, 28, 29, 30, 31, 32, 33, 34, 35, 36, 37, 38, 39, 40, 41, 42, 43, 44, 45, 46, 47, 48, 49, 50, 51, 52, 53, 54, 55, 56, 57, 58, 59, 60, 61, 62, 63, 64, 65, 66, 67, 68, 69, 70, 71, 72, 73, 74, 75, 76, 77, 78, 79, 80, 81, 82, 83, 84, 85, 86, 87, 88, 89, 90, 91, 92, 93, 94, 95, 96, 97, 98, 99, 100]\n",
      "1\n",
      "100\n",
      "5050\n"
     ]
    }
   ],
   "source": [
    "numbers = range(1,101)\n",
    "numbers_list = list(numbers)\n",
    "print(numbers_list)\n",
    "print(min(numbers))\n",
    "print(max(numbers))\n",
    "print(sum(numbers))"
   ]
  },
  {
   "cell_type": "markdown",
   "id": "24",
   "metadata": {},
   "source": [
    "## Question 10\n",
    "\n",
    "**Odd Numbers:** Use the third argument of the `range()` function to make a list of the odd numbers from 1 to 20. Use a `for` loop to print each number."
   ]
  },
  {
   "cell_type": "code",
   "execution_count": 65,
   "id": "25",
   "metadata": {},
   "outputs": [
    {
     "name": "stdout",
     "output_type": "stream",
     "text": [
      "1\n",
      "3\n",
      "5\n",
      "7\n",
      "9\n",
      "11\n",
      "13\n",
      "15\n",
      "17\n",
      "19\n"
     ]
    }
   ],
   "source": [
    "odd_numbers = range(1,20,2)\n",
    "list_odd = list(odd_numbers)\n",
    "for list_odd in list_odd:\n",
    "    print(list_odd)"
   ]
  },
  {
   "cell_type": "markdown",
   "id": "26",
   "metadata": {},
   "source": [
    "## Question 11\n",
    "\n",
    "**Threes:** Make a list of the multiples of 3 from 3 to 30. Use a `for` loop to print the numbers in your list."
   ]
  },
  {
   "cell_type": "code",
   "execution_count": 66,
   "id": "27",
   "metadata": {},
   "outputs": [
    {
     "name": "stdout",
     "output_type": "stream",
     "text": [
      "3\n",
      "6\n",
      "9\n",
      "12\n",
      "15\n",
      "18\n",
      "21\n",
      "24\n",
      "27\n",
      "30\n"
     ]
    }
   ],
   "source": [
    "mult_three = range(3,31,3)\n",
    "list_mult = list(mult_three)\n",
    "for list_mult in list_mult:\n",
    "    print(list_mult)"
   ]
  },
  {
   "cell_type": "markdown",
   "id": "28",
   "metadata": {},
   "source": [
    "## Question 12\n",
    "\n",
    "**Cube Comprehension:** Use a list comprehension to generate a list of the first 10 cubes."
   ]
  },
  {
   "cell_type": "code",
   "execution_count": 67,
   "id": "29",
   "metadata": {},
   "outputs": [
    {
     "name": "stdout",
     "output_type": "stream",
     "text": [
      "[0, 1, 8, 27, 64, 125, 216, 343, 512, 729]\n"
     ]
    }
   ],
   "source": [
    "cube_list = [x **3 for x in range(10)]\n",
    "print(cube_list)"
   ]
  },
  {
   "cell_type": "markdown",
   "id": "30",
   "metadata": {},
   "source": [
    "## Question 13\n",
    "\n",
    "**Slices:** Using one of the programs you wrote in this lab, add several lines to the end of the program that do the following:\n",
    "\n",
    "Print the message _The first three items in the list are:_. Then use a slice to print the first three items from that program’s list."
   ]
  },
  {
   "cell_type": "code",
   "execution_count": 81,
   "id": "31",
   "metadata": {},
   "outputs": [
    {
     "name": "stdout",
     "output_type": "stream",
     "text": [
      "[1, 2, 3]\n"
     ]
    }
   ],
   "source": [
    "numbers = range(1,101)\n",
    "first_three = numbers[:3]\n",
    "first_three_list = list(first_three)\n",
    "print(first_three_list)"
   ]
  },
  {
   "cell_type": "markdown",
   "id": "32",
   "metadata": {},
   "source": [
    "Print the message _Three items from the middle of the list are:_. Use a slice to print three items from the middle of the list."
   ]
  },
  {
   "cell_type": "code",
   "execution_count": 83,
   "id": "33",
   "metadata": {},
   "outputs": [
    {
     "name": "stdout",
     "output_type": "stream",
     "text": [
      "[49, 50, 51]\n"
     ]
    }
   ],
   "source": [
    "numbers = range(1,101)\n",
    "total_items = len(numbers)\n",
    "start_index = (total_items - 3)//2\n",
    "end_index = start_index + 3\n",
    "middle_three = numbers[start_index:end_index]\n",
    "middle_three_list = list(middle_three)\n",
    "print(middle_three_list)"
   ]
  },
  {
   "cell_type": "markdown",
   "id": "34",
   "metadata": {},
   "source": [
    "Print the message _The last three items in the list are:_. Use a slice to print the last three items in the list."
   ]
  },
  {
   "cell_type": "code",
   "execution_count": 82,
   "id": "35",
   "metadata": {},
   "outputs": [
    {
     "name": "stdout",
     "output_type": "stream",
     "text": [
      "[98, 99, 100]\n"
     ]
    }
   ],
   "source": [
    "numbers = range(1,101)\n",
    "last_three = numbers[-3:]\n",
    "last_three_list = list(last_three)\n",
    "print(last_three_list)"
   ]
  },
  {
   "cell_type": "markdown",
   "id": "36",
   "metadata": {},
   "source": [
    "## Question 14\n",
    "\n",
    "**Buffet:** A buffet-style restaurant offers only five basic foods. Think of five simple foods, and store them in a tuple.\n",
    "\n",
    "Use a for loop to print each food the restaurant offers."
   ]
  },
  {
   "cell_type": "code",
   "execution_count": 70,
   "id": "37",
   "metadata": {},
   "outputs": [
    {
     "name": "stdout",
     "output_type": "stream",
     "text": [
      "pasta\n",
      "steak\n",
      "beans\n",
      "rice\n",
      "cake\n"
     ]
    }
   ],
   "source": [
    "buffet_items = (\"pasta\", \"steak\", \"beans\", \"rice\", \"cake\")\n",
    "for buffet_items in buffet_items:\n",
    "    print(buffet_items)"
   ]
  },
  {
   "cell_type": "markdown",
   "id": "38",
   "metadata": {},
   "source": [
    "The restaurant changes its menu, replacing two of the items with different foods. Add a line that rewrites the tuple, and then use a for loop to print each of the items on the revised menu."
   ]
  },
  {
   "cell_type": "code",
   "execution_count": 73,
   "id": "39",
   "metadata": {},
   "outputs": [
    {
     "name": "stdout",
     "output_type": "stream",
     "text": [
      "pasta\n",
      "steak\n",
      "beans\n",
      "chicken\n",
      "bread\n"
     ]
    }
   ],
   "source": [
    "buffet_items = (\"pasta\", \"steak\", \"beans\", \"rice\", \"cake\")\n",
    "new_buffet = (buffet_items[0],buffet_items[1],buffet_items[2], \"chicken\", \"bread\")\n",
    "for new_buffet in new_buffet:\n",
    "    print(new_buffet)"
   ]
  },
  {
   "cell_type": "markdown",
   "id": "40",
   "metadata": {},
   "source": [
    "## Question 15\n",
    "\n",
    "**Alien Colors:** Imagine an alien was just shot down in a game. Create a variable called `alien_color` and assign it a value of `green, yellow,` or `red`.\n",
    "\n",
    "-   Write an if statement to test whether the alien’s color is green. If it is, print a message that the player just earned 5 points.\n",
    "-   Write one version of this program that passes the if test and another that fails. (The version that fails will have no output.)"
   ]
  },
  {
   "cell_type": "code",
   "execution_count": 14,
   "id": "41",
   "metadata": {},
   "outputs": [
    {
     "name": "stdout",
     "output_type": "stream",
     "text": [
      "plus 5 points\n"
     ]
    }
   ],
   "source": [
    "alien_color = \"green\"\n",
    "if alien_color == \"green\":\n",
    "    print(f\"plus 5 points\")\n",
    "alien_color = \"red\"\n",
    "if alien_color == \"green\":\n",
    "    print(f\"plus 5 points\")"
   ]
  },
  {
   "cell_type": "markdown",
   "id": "42",
   "metadata": {},
   "source": [
    "## Question 16\n",
    "\n",
    "**Stages of Life:** Write an `if-elif-else` chain that determines a person’s stage of life. Set a value for the variable `age`, and then:\n",
    "\n",
    "-   If the person is less than 2 years old, print a message that the person is a baby.\n",
    "-   If the person is at least 2 years old but less than 4, print a message that the person is a toddler.\n",
    "-   If the person is at least 4 years old but less than 13, print a message that the person is a kid.\n",
    "-   If the person is at least 13 years old but less than 20, print a message that the person is a teenager.\n",
    "-   If the person is at least 20 years old but less than 65, print a message that the person is an adult."
   ]
  },
  {
   "cell_type": "code",
   "execution_count": 9,
   "id": "43",
   "metadata": {},
   "outputs": [
    {
     "name": "stdout",
     "output_type": "stream",
     "text": [
      "You are old!\n"
     ]
    }
   ],
   "source": [
    "age = 66\n",
    "if age<2:\n",
    "    print(\"You are a baby.\")\n",
    "elif age<4:\n",
    "    print(\"You are a toddler.\")\n",
    "elif age<13:\n",
    "    print(\"You are a kid.\")\n",
    "elif age<20:\n",
    "    print(\"You are a teen.\")\n",
    "elif age<65:\n",
    "    print(\"You are an adult.\")\n",
    "else:\n",
    "    print(\"You are old!\")"
   ]
  },
  {
   "cell_type": "markdown",
   "id": "44",
   "metadata": {},
   "source": [
    "## Question 17\n",
    "\n",
    "**Favorite Fruit:** Make a list of your favorite fruits, and then write a series of independent `if` statements that check for certain fruits in your list.\n",
    "\n",
    "-   Make a list of your three favorite fruits and call it favorite_fruits.\n",
    "-   Write five if statements. Each should check whether a certain kind of fruit is in your list. If the fruit is in your list, the if block should print a statement, such as You really like bananas!"
   ]
  },
  {
   "cell_type": "code",
   "execution_count": 74,
   "id": "45",
   "metadata": {},
   "outputs": [
    {
     "name": "stdout",
     "output_type": "stream",
     "text": [
      "You really like bananas!\n",
      "You really like apples!\n",
      "You really like plums!\n"
     ]
    }
   ],
   "source": [
    "fav_fruits = [\"banana\", \"apple\", \"plum\"]\n",
    "if \"banana\" in fav_fruits:\n",
    "    print(\"You really like bananas!\")\n",
    "if \"apple\" in fav_fruits:\n",
    "    print(\"You really like apples!\")\n",
    "if \"plum\" in fav_fruits:\n",
    "    print(\"You really like plums!\")\n",
    "if \"orange\" in fav_fruits:\n",
    "    print(\"You really like oranges\")\n",
    "if \"watermelon\" in fav_fruits:\n",
    "    print(\"You really like watermelons!\")"
   ]
  },
  {
   "cell_type": "markdown",
   "id": "46",
   "metadata": {},
   "source": [
    "## Question 18\n",
    "\n",
    "**Hello Admin:** Make a list of five or more usernames, including the name `admin`. Imagine you are writing code that will print a greeting to each user after they log in to a website. Loop through the list, and print a greeting to each user:\n",
    "\n",
    "-   If the username is 'admin', print a special greeting, such as _Hello admin, would you like to see a status report?_\n",
    "-   Otherwise, print a generic greeting, such as _Hello Jaden, thank you for logging in again_."
   ]
  },
  {
   "cell_type": "code",
   "execution_count": 87,
   "id": "47",
   "metadata": {},
   "outputs": [
    {
     "name": "stdout",
     "output_type": "stream",
     "text": [
      "Hello admin, would you like a status report?\n"
     ]
    }
   ],
   "source": [
    "usernames = \"admin\"\n",
    "username_list = [\"admin\", \"rob1\", \"sam2\", \"james3\", \"jane4\"]\n",
    "for username_list in usernames:\n",
    "    if usernames == \"admin\":\n",
    "        print(\"Hello admin, would you like a status report?\")\n",
    "        break\n",
    "    elif usernames == \"rob1\":\n",
    "        print(\"Hello rob1, thank you for logging in today!\")\n",
    "        break\n",
    "    elif usernames == \"sam2\":\n",
    "        print(\"Hello sam2, thank you for logging in today!\")\n",
    "        break\n",
    "    elif usernames == \"james3\":\n",
    "        print(\"Hello james3, thank you for logging in today!\")\n",
    "        break\n",
    "    elif usernames == \"jane4\":\n",
    "        print(\"Hello jane4, thank you for logging in today!\")\n",
    "        break\n",
    "    else:\n",
    "        print(\"Invalid user login\")\n",
    "        break"
   ]
  },
  {
   "cell_type": "markdown",
   "id": "48",
   "metadata": {},
   "source": [
    "## Question 19\n",
    "\n",
    "**Checking Usernames:** Do the following to create a program that simulates how websites ensure that everyone has a unique username.\n",
    "\n",
    "-   Make a list of five or more usernames called `current_users`.\n",
    "-   Make another list of five usernames called `new_users`. Make sure one or two of the new usernames are also in the `current_users` list.\n",
    "-   Loop through the `new_users` list to see if each new username has already been used. If it has, print a message that the person will need to enter a new username. If a username has not been used, print a message saying that the username is available.\n",
    "-   Make sure your comparison is case insensitive. If 'John' has been used, 'JOHN' should not be accepted. (To do this, you’ll need to make a copy of `current_users` containing the lowercase versions of all existing users.)"
   ]
  },
  {
   "cell_type": "code",
   "execution_count": 95,
   "id": "49",
   "metadata": {},
   "outputs": [
    {
     "name": "stdout",
     "output_type": "stream",
     "text": [
      "The username 'John2'is unavailable.\n",
      "The username 'SALLY3' is unavailable.\n",
      "The username 'Don4' is available.\n",
      "The username 'Hans5' is available.\n",
      "The username 'Pam6' is available.\n"
     ]
    }
   ],
   "source": [
    "current_users = [\"John2\", \"sally3\", \"Rick4\", \"Dan5\", \"Jim6\"]\n",
    "new_users = [\"John2\", \"SALLY3\", \"Don4\", \"Hans5\", \"Pam6\"]\n",
    "current_users_lower = [user.lower() for user in current_users]\n",
    "for new_user in new_users:\n",
    "    if new_user in current_users:\n",
    "        print(f\"The username '{new_user}'is unavailable.\")\n",
    "    elif new_user.lower() in current_users_lower:\n",
    "        print(f\"The username '{new_user}' is unavailable.\")\n",
    "    else:\n",
    "        print(f\"The username '{new_user}' is available.\")"
   ]
  },
  {
   "cell_type": "markdown",
   "id": "50",
   "metadata": {},
   "source": [
    "## Question 20\n",
    "\n",
    "**Ordinal Numbers:** Ordinal numbers indicate their position in a list, such as _1st_ or _2nd_. Most ordinal numbers end in _th_, except 1, 2, and 3.\n",
    "\n",
    "-   Store the numbers 1 through 9 in a list.\n",
    "-   Loop through the list.\n",
    "-   Use an `if-elif-else` chain inside the loop to print the proper ordinal ending for each number. Your output should read \"1st 2nd 3rd 4th 5th 6th 7th 8th 9th\", and each result should be on a separate line."
   ]
  },
  {
   "cell_type": "code",
   "execution_count": 98,
   "id": "51",
   "metadata": {},
   "outputs": [
    {
     "name": "stdout",
     "output_type": "stream",
     "text": [
      "1st\n",
      "2nd\n",
      "3rd\n",
      "4th\n",
      "5th\n",
      "6th\n",
      "7th\n",
      "8th\n",
      "9th\n"
     ]
    }
   ],
   "source": [
    "ordinal_numbers = list(range(1,10))\n",
    "for ordinal_number in ordinal_numbers:\n",
    "    if ordinal_number == 1:\n",
    "        print(f\"{ordinal_number}st\")\n",
    "    elif ordinal_number == 2:\n",
    "        print(f\"{ordinal_number}nd\")\n",
    "    elif ordinal_number == 3:\n",
    "        print(f\"{ordinal_number}rd\")\n",
    "    else:\n",
    "        print(f\"{ordinal_number}th\")"
   ]
  }
 ],
 "metadata": {
  "kernelspec": {
   "display_name": "Python 3",
   "language": "python",
   "name": "python3"
  },
  "language_info": {
   "codemirror_mode": {
    "name": "ipython",
    "version": 3
   },
   "file_extension": ".py",
   "mimetype": "text/x-python",
   "name": "python",
   "nbconvert_exporter": "python",
   "pygments_lexer": "ipython3",
   "version": "3.11.7"
  }
 },
 "nbformat": 4,
 "nbformat_minor": 5
}
